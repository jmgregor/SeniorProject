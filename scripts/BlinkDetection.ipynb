{
 "cells": [
  {
   "cell_type": "markdown",
   "metadata": {},
   "source": [
    "Blink Detection\n",
    "Senior Project 20-21\n",
    "Jared Gregor (jmg2586@rit.edu)\n"
   ]
  },
  {
   "cell_type": "code",
   "execution_count": 74,
   "metadata": {},
   "outputs": [],
   "source": [
    "import os\n",
    "import numpy as np\n",
    "import csv"
   ]
  },
  {
   "cell_type": "code",
   "execution_count": 69,
   "metadata": {},
   "outputs": [],
   "source": [
    "def splitName(name):\n",
    "    #Find person number\n",
    "    loc1 = name.find(\"_\") + 1\n",
    "    loc2 = name.find(\"_\", loc1)\n",
    "    personNum = name[loc1:loc2]\n",
    "    #Find Trial number\n",
    "    loc3 = name.find(\"_\", loc2+1) + 1\n",
    "    trialNum = name[loc3:]    \n",
    "    return int(personNum), int(trialNum)"
   ]
  },
  {
   "cell_type": "code",
   "execution_count": 77,
   "metadata": {},
   "outputs": [],
   "source": [
    "#Read in data set of videos to get stats\n",
    "directory_right = '/home/pladmin/Documents/BlinkDetection/blink/right'\n",
    "directory_left = '/home/pladmin/Documents/BlinkDetection/blink/left'\n",
    "\n",
    "#intialize output matrix\n",
    "output = [[\"Person\", \"L_T1\", \"L_T2\", \"L_T3\", \"L_T4\", \"R_T1\", \"R_T2\", \"R_T3\", \"R_T4\", \"L_Tot\", \"R_Tot\"]]\n",
    "data = np.zeros((23,11), dtype=int)\n",
    "for i in range(23):\n",
    "    data[i][0] = i+1\n",
    "    "
   ]
  },
  {
   "cell_type": "code",
   "execution_count": 78,
   "metadata": {},
   "outputs": [],
   "source": [
    "#Get left eye stats\n",
    "for folder in os.listdir(directory_left):\n",
    "    \n",
    "    # Get current person and trial\n",
    "    person, trial = splitName(folder)\n",
    "    \n",
    "    # Fill with number of images\n",
    "    data[person-1][trial] = len(os.listdir(directory_left + \"/\" + folder))"
   ]
  },
  {
   "cell_type": "code",
   "execution_count": 79,
   "metadata": {},
   "outputs": [],
   "source": [
    "#Get right eye stats\n",
    "for folder in os.listdir(directory_right):\n",
    "    \n",
    "    # Get current person and trial\n",
    "    person, trial = splitName(folder)\n",
    "    \n",
    "    # Fill with number of images\n",
    "    data[person-1][trial+4] = len(os.listdir(directory_right + \"/\" + folder))"
   ]
  },
  {
   "cell_type": "code",
   "execution_count": 80,
   "metadata": {},
   "outputs": [],
   "source": [
    "#Compute and return dataset stats\n",
    "for row in data:\n",
    "    row[9] = row[1] + row[2] + row[3] + row[4]\n",
    "    row[10] = row[5] + row[6] + row[7] + row[8]\n",
    "    output.append(row)\n",
    "    \n",
    "#Save to CSV\n",
    "with open('dataset.csv', 'w', newline='') as csv_output:\n",
    "    writer = csv.writer(csv_output)\n",
    "    writer.writerows(output)"
   ]
  },
  {
   "cell_type": "code",
   "execution_count": 81,
   "metadata": {},
   "outputs": [],
   "source": [
    "#import deeplabcut\n",
    "#deeplabcut.launch_dlc()"
   ]
  },
  {
   "cell_type": "code",
   "execution_count": null,
   "metadata": {},
   "outputs": [],
   "source": []
  },
  {
   "cell_type": "code",
   "execution_count": null,
   "metadata": {},
   "outputs": [],
   "source": []
  }
 ],
 "metadata": {
  "kernelspec": {
   "display_name": "Python 3",
   "language": "python",
   "name": "python3"
  },
  "language_info": {
   "codemirror_mode": {
    "name": "ipython",
    "version": 3
   },
   "file_extension": ".py",
   "mimetype": "text/x-python",
   "name": "python",
   "nbconvert_exporter": "python",
   "pygments_lexer": "ipython3",
   "version": "3.8.3"
  }
 },
 "nbformat": 4,
 "nbformat_minor": 4
}
