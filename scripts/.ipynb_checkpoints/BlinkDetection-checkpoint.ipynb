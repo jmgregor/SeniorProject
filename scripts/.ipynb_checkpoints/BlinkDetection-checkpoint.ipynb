{
 "cells": [
  {
   "cell_type": "markdown",
   "metadata": {},
   "source": [
    "Blink Detection\n",
    "Senior Project 20-21\n",
    "Jared Gregor (jmg2586@rit.edu)"
   ]
  },
  {
   "cell_type": "code",
   "execution_count": 2,
   "metadata": {},
   "outputs": [],
   "source": [
    "import os\n",
    "import numpy as np\n",
    "import csv\n",
    "import deeplabcut"
   ]
  },
  {
   "cell_type": "code",
   "execution_count": 2,
   "metadata": {},
   "outputs": [],
   "source": [
    "# ----Helper Functions---- #\n",
    "def splitNameTrial(name):\n",
    "    #Find person number\n",
    "    loc1 = name.find(\"_\") + 1\n",
    "    loc2 = name.find(\"_\", loc1)\n",
    "    personNum = name[loc1:loc2]\n",
    "    #Find Trial number\n",
    "    loc3 = name.find(\"_\", loc2+1) + 1\n",
    "    trialNum = name[loc3:]    \n",
    "    return int(personNum), int(trialNum)"
   ]
  },
  {
   "cell_type": "code",
   "execution_count": 3,
   "metadata": {},
   "outputs": [],
   "source": [
    "# --Return number of videos in eye dataset-- #\n",
    "\n",
    "# Read in data set of videos to get stats\n",
    "directory_right = '/home/pladmin/Documents/BlinkDetection/blink/right'\n",
    "directory_left = '/home/pladmin/Documents/BlinkDetection/blink/left'\n",
    "\n",
    "# Intialize output matrix\n",
    "output = [[\"Person\", \"L_T1\", \"L_T2\", \"L_T3\", \"L_T4\", \"R_T1\", \"R_T2\", \"R_T3\", \"R_T4\", \"L_Tot\", \"R_Tot\"]]\n",
    "data = np.zeros((23,11), dtype=int)\n",
    "for i in range(23):\n",
    "    data[i][0] = i+1\n",
    "\n",
    "# Get left eye stats\n",
    "for folder in os.listdir(directory_left):\n",
    "    # Get current person and trial\n",
    "    person, trial = splitNameTrial(folder)\n",
    "    # Fill with number of images\n",
    "    data[person-1][trial] = len(os.listdir(directory_left + \"/\" + folder))\n",
    "    \n",
    "# Get right eye stats\n",
    "for folder in os.listdir(directory_right):\n",
    "    # Get current person and trial\n",
    "    person, trial = splitNameTrial(folder)\n",
    "    # Fill with number of images\n",
    "    data[person-1][trial+4] = len(os.listdir(directory_right + \"/\" + folder))\n",
    "    \n",
    "# Compute and return dataset stats\n",
    "for row in data:\n",
    "    row[9] = row[1] + row[2] + row[3] + row[4]\n",
    "    row[10] = row[5] + row[6] + row[7] + row[8]\n",
    "    output.append(row)\n",
    "    \n",
    "# Save to CSV\n",
    "with open('datasetStats.csv', 'w', newline='') as csv_output:\n",
    "    writer = csv.writer(csv_output)\n",
    "    writer.writerows(output)"
   ]
  },
  {
   "cell_type": "markdown",
   "metadata": {},
   "source": [
    "DeepLabCut"
   ]
  },
  {
   "cell_type": "code",
   "execution_count": null,
   "metadata": {},
   "outputs": [
    {
     "name": "stdout",
     "output_type": "stream",
     "text": [
      "You can now check the labels, using 'check_labels' before proceeding. Then, you can use the function 'create_training_dataset' to create the training dataset.\n"
     ]
    }
   ],
   "source": [
    "# GUI\n",
    "#deeplabcut.launch_dlc()\n",
    "\n",
    "config_path = \"/home/pladmin/Documents/BlinkDetection/JaredGregor/DLC_10_01_20/10-01-20-P4T1L-2020-10-01\""
   ]
  },
  {
   "cell_type": "code",
   "execution_count": 3,
   "metadata": {},
   "outputs": [
    {
     "ename": "AttributeError",
     "evalue": "module 'deeplabcut' has no attribute 'load_project'",
     "output_type": "error",
     "traceback": [
      "\u001b[0;31m---------------------------------------------------------------------------\u001b[0m",
      "\u001b[0;31mAttributeError\u001b[0m                            Traceback (most recent call last)",
      "\u001b[0;32m<ipython-input-3-61bc3480d60e>\u001b[0m in \u001b[0;36m<module>\u001b[0;34m\u001b[0m\n\u001b[1;32m      2\u001b[0m \u001b[0;34m\u001b[0m\u001b[0m\n\u001b[1;32m      3\u001b[0m \u001b[0;31m#deeplabcut.create_new_project('Name of the project', 'Name of the experimenter', ['Full path of video 1', 'Full path of video2', 'Full path of video3'], working_directory='Full path of the working directory', copy_videos=True/False, multianimal=True/False)\u001b[0m\u001b[0;34m\u001b[0m\u001b[0;34m\u001b[0m\u001b[0;34m\u001b[0m\u001b[0m\n\u001b[0;32m----> 4\u001b[0;31m \u001b[0mdeeplabcut\u001b[0m\u001b[0;34m.\u001b[0m\u001b[0mload_project\u001b[0m\u001b[0;34m(\u001b[0m\u001b[0;34m'10-01-20'\u001b[0m\u001b[0;34m,\u001b[0m \u001b[0;34m'P4T1L'\u001b[0m\u001b[0;34m,\u001b[0m \u001b[0;34m[\u001b[0m\u001b[0;34m'Full path of video 1'\u001b[0m\u001b[0;34m,\u001b[0m \u001b[0;34m'Full path of video2'\u001b[0m\u001b[0;34m,\u001b[0m \u001b[0;34m'Full path of video3'\u001b[0m\u001b[0;34m]\u001b[0m\u001b[0;34m,\u001b[0m \u001b[0mworking_directory\u001b[0m\u001b[0;34m=\u001b[0m\u001b[0;34m'Full path of the working directory'\u001b[0m\u001b[0;34m,\u001b[0m \u001b[0mcopy_videos\u001b[0m\u001b[0;34m=\u001b[0m\u001b[0;32mTrue\u001b[0m\u001b[0;34m/\u001b[0m\u001b[0;32mFalse\u001b[0m\u001b[0;34m,\u001b[0m \u001b[0mmultianimal\u001b[0m\u001b[0;34m=\u001b[0m\u001b[0;32mFalse\u001b[0m\u001b[0;34m)\u001b[0m\u001b[0;34m\u001b[0m\u001b[0;34m\u001b[0m\u001b[0m\n\u001b[0m\u001b[1;32m      5\u001b[0m \u001b[0;31m#deeplabcut.add_new_videos('Full path of the project configuration file*', ['full path of video 4', 'full path of video 5'], copy_videos=True/False)\u001b[0m\u001b[0;34m\u001b[0m\u001b[0;34m\u001b[0m\u001b[0;34m\u001b[0m\u001b[0m\n",
      "\u001b[0;31mAttributeError\u001b[0m: module 'deeplabcut' has no attribute 'load_project'"
     ]
    }
   ],
   "source": [
    "# Create DLC project\n",
    "#deeplabcut.create_new_project('Name of the project', 'Name of the experimenter', ['Full path of video 1', 'Full path of video2', 'Full path of video3'], working_directory='Full path of the working directory', copy_videos=True/False, multianimal=True/False)\n",
    "deeplabcut.create_new_project('10-01-20', 'P4T1L', ['Full path of video 1', 'Full path of video2', 'Full path of video3'], working_directory='Full path of the working directory', copy_videos=True/False, multianimal=False)\n",
    "#deeplabcut.add_new_videos('Full path of the project configuration file*', ['full path of video 4', 'full path of video 5'], copy_videos=True/False)"
   ]
  },
  {
   "cell_type": "code",
   "execution_count": 80,
   "metadata": {},
   "outputs": [],
   "source": [
    "# DLC Extract frames\n",
    "# deeplabcut.extract_frames(config_path, mode='automatic/manual', algo='uniform/kmeans', userfeedback=False, crop=True/False)\n",
    "deeplabcut.extract_frames(config_path, mode='automatic', algo='kmeans', userfeedback=False, crop=False)"
   ]
  },
  {
   "cell_type": "code",
   "execution_count": null,
   "metadata": {},
   "outputs": [],
   "source": [
    "# Rotate Left Eyes 180 degrees\n"
   ]
  },
  {
   "cell_type": "code",
   "execution_count": null,
   "metadata": {},
   "outputs": [],
   "source": [
    "# DLC Label frames\n",
    "#deeplabcut.label_frames(config_path)\n",
    "deeplabcut.label_frames(config_path)"
   ]
  },
  {
   "cell_type": "code",
   "execution_count": null,
   "metadata": {},
   "outputs": [],
   "source": [
    "# DLC Create Training Set\n",
    "#deeplabcut.create_training_dataset(config_path, augmenter_type='imgaug')\n",
    "deeplabcut.create_training_dataset(config_path, augmenter_type='imgaug')"
   ]
  }
 ],
 "metadata": {
  "kernelspec": {
   "display_name": "Python 3",
   "language": "python",
   "name": "python3"
  },
  "language_info": {
   "codemirror_mode": {
    "name": "ipython",
    "version": 3
   },
   "file_extension": ".py",
   "mimetype": "text/x-python",
   "name": "python",
   "nbconvert_exporter": "python",
   "pygments_lexer": "ipython3",
   "version": "3.7.9"
  }
 },
 "nbformat": 4,
 "nbformat_minor": 4
}
